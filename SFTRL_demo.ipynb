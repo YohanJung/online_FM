{
 "cells": [
  {
   "cell_type": "code",
   "execution_count": 1,
   "metadata": {},
   "outputs": [],
   "source": [
    "import torch\n",
    "import numpy as np\n",
    "import scipy"
   ]
  },
  {
   "cell_type": "code",
   "execution_count": 2,
   "metadata": {},
   "outputs": [],
   "source": [
    "tensor_type = torch.DoubleTensor\n",
    "param = torch.Tensor(10*np.random.randn(10,1))"
   ]
  },
  {
   "cell_type": "code",
   "execution_count": 20,
   "metadata": {},
   "outputs": [
    {
     "ename": "TypeError",
     "evalue": "cat() takes from 1 to 2 positional arguments but 3 were given",
     "output_type": "error",
     "traceback": [
      "\u001b[0;31m---------------------------------------------------------------------------\u001b[0m",
      "\u001b[0;31mTypeError\u001b[0m                                 Traceback (most recent call last)",
      "\u001b[0;32m<ipython-input-20-cd4f507b9e8a>\u001b[0m in \u001b[0;36m<module>\u001b[0;34m()\u001b[0m\n\u001b[0;32m----> 1\u001b[0;31m \u001b[0mtorch\u001b[0m\u001b[0;34m.\u001b[0m\u001b[0mcat\u001b[0m\u001b[0;34m(\u001b[0m\u001b[0mparam\u001b[0m\u001b[0;34m,\u001b[0m\u001b[0mtorch\u001b[0m\u001b[0;34m.\u001b[0m\u001b[0mzeros_like\u001b[0m\u001b[0;34m(\u001b[0m\u001b[0mparam\u001b[0m\u001b[0;34m)\u001b[0m \u001b[0;34m,\u001b[0m \u001b[0;36m1\u001b[0m\u001b[0;34m)\u001b[0m\u001b[0;34m[\u001b[0m\u001b[0;34m:\u001b[0m\u001b[0;34m,\u001b[0m\u001b[0;36m0\u001b[0m\u001b[0;34m]\u001b[0m\u001b[0;34m\u001b[0m\u001b[0m\n\u001b[0m",
      "\u001b[0;31mTypeError\u001b[0m: cat() takes from 1 to 2 positional arguments but 3 were given"
     ]
    }
   ],
   "source": [
    "torch.cat(param,torch.zeros_like(param) , 1)[:,0]"
   ]
  },
  {
   "cell_type": "code",
   "execution_count": 3,
   "metadata": {},
   "outputs": [],
   "source": [
    "u,v,d = param.matmul(param.t()).svd()"
   ]
  },
  {
   "cell_type": "code",
   "execution_count": 4,
   "metadata": {},
   "outputs": [],
   "source": [
    "v[v.data <= 1e-8] = 0.0"
   ]
  },
  {
   "cell_type": "code",
   "execution_count": 5,
   "metadata": {},
   "outputs": [
    {
     "data": {
      "text/plain": [
       "(tensor([2.7489e-02, 1.2972e+02, 2.8752e+02]),\n",
       " tensor([2.7489e-02, 1.2972e+02, 2.8752e+02]))"
      ]
     },
     "execution_count": 5,
     "metadata": {},
     "output_type": "execute_result"
    }
   ],
   "source": [
    "1/v[:3].sqrt(),(1/v[:3].sqrt()).diag().diag()"
   ]
  },
  {
   "cell_type": "code",
   "execution_count": null,
   "metadata": {},
   "outputs": [],
   "source": [
    "import torch\n",
    "from torch.nn import Module\n",
    "from torch.autograd import Variable\n",
    "\n",
    "import numpy as np\n",
    "import scipy\n",
    "#import scipy.linalg import \n",
    "\n",
    "\n",
    "tensor_type = torch.DoubleTensor\n",
    "\n",
    "\n",
    "class SFTRL(Module):\n",
    "    \n",
    "    def __init__(self, inputs_matrix , outputs , option ):\n",
    "        \n",
    "        super(SFTRL,self).__init__()\n",
    "\n",
    "        self.A = inputs_matrix\n",
    "        self.b = outputs\n",
    "        self._thres = 1e-14\n",
    "        \n",
    "        self.num_data = input_matrix.shape()[0]\n",
    "        self.num_feature = input_matrix.shape()[1]\n",
    "                \n",
    "        self.eta = option['eta']\n",
    "        self.m = option['m']\n",
    "        \n",
    "        self.row_count_p = 0\n",
    "        self.row_count_n = 0\n",
    "        \n",
    "        self.BT_P = tensor_type(np.zeros([num_feature,self.m]))\n",
    "        self.BT_N = tensor_type(np.zeros([num_feature,self.m]))\n",
    "        \n",
    "        \n",
    "    def GFD(self, sign ):\n",
    "    \n",
    "        if sign <= 0 :\n",
    "\n",
    "            self.row_count_p += 1            \n",
    "            self.BT_P[]  = \n",
    "            \n",
    "            \n",
    "            \n",
    "            U,Sigma,V = BT_P.matmul(BT_P.t()).svd()\n",
    "            Sigma[Sigma.data <= self._thres ] = 0.0\n",
    "            nnz = Sigma.nonzero().numel()\n",
    "            \n",
    "            V= = BT_P.matmul(U[:,:nnz]).matmul(1/Sigma[:nnz].sqrt().diag())\n",
    "            \n",
    "            if nnz >= self.m :\n",
    "                BT_P = V[:,:self.m-1].matmul( (Sigma[:self.m-1] - Sigma[self.m]).sqrt().diag() )\n",
    "                BT_P = torch.cat([BT_P,torch.zeros_like(BT_P[:,0])] ,1)\n",
    "                self.row_count_p = self.m - 1 \n",
    "                \n",
    "            else : \n",
    "                BT_P = V[:,:nnz].matmul( (Sigma[:nnz] ).sqrt().diag() )                                \n",
    "                BT_P = torch.cat([BT_P,torch.zeros([ self.num_feature , 2*self.m - nnz ]) ] ,1 )                               \n",
    "                self.row_count_p = nnz \n",
    "                        \n",
    "        else:\n",
    "            self.row_count_p += 1            \n",
    "            U,Sigma,V = BT_P.matmul(BT_P.t()).svd()\n",
    "            \n",
    "            Sigma[Sigma.data <= self._thres ] = 0.0\n",
    "            nnz = Sigma.nonzero().numel()\n",
    "            \n",
    "            V= = BT_P.matmul(U[:,:nnz]).matmul(1/Sigma[:nnz].sqrt().diag())\n",
    "            \n",
    "            if nnz >= self.m :\n",
    "                BT_P = V[:,:self.m-1].matmul( (Sigma[:self.m-1] - Sigma[self.m]).sqrt().diag() )\n",
    "                BT_P = torch.cat([BT_P,torch.zeros_like(BT_P[:,0])] ,1)\n",
    "                self.row_count_p = self.m - 1 \n",
    "                \n",
    "            else : \n",
    "                BT_P = V[:,:nnz].matmul( (Sigma[:nnz] ).sqrt().diag() )                                \n",
    "                BT_P = torch.cat([BT_P,torch.zeros([ self.num_feature , 2*self.m - nnz ]) ] ,1 )                               \n",
    "                self.row_count_p = nnz \n",
    "\n",
    "                \n",
    "    \n",
    "    \n",
    "    \n",
    "        return\n",
    "\n",
    "\n"
   ]
  },
  {
   "cell_type": "code",
   "execution_count": null,
   "metadata": {},
   "outputs": [],
   "source": []
  },
  {
   "cell_type": "code",
   "execution_count": null,
   "metadata": {},
   "outputs": [],
   "source": []
  }
 ],
 "metadata": {
  "kernelspec": {
   "display_name": "Python 3",
   "language": "python",
   "name": "python3"
  },
  "language_info": {
   "codemirror_mode": {
    "name": "ipython",
    "version": 3
   },
   "file_extension": ".py",
   "mimetype": "text/x-python",
   "name": "python",
   "nbconvert_exporter": "python",
   "pygments_lexer": "ipython3",
   "version": "3.5.2"
  }
 },
 "nbformat": 4,
 "nbformat_minor": 2
}
