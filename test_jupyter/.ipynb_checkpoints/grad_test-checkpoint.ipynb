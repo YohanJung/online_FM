{
 "cells": [
  {
   "cell_type": "code",
   "execution_count": 1,
   "metadata": {},
   "outputs": [],
   "source": [
    "import numpy as np\n",
    "import torch\n",
    "\n",
    "from torch.autograd import Variable"
   ]
  },
  {
   "cell_type": "code",
   "execution_count": 2,
   "metadata": {},
   "outputs": [],
   "source": [
    "def grad(x):\n",
    "    # Alternatively: https://math.stackexchange.com/a/934443\n",
    "    # from scipy.linalg import sqrtm\n",
    "    # return sqrtm(np.linalg.inv(x @ x.transpose())) @ x\n",
    "\n",
    "    # Using SVD: https://math.stackexchange.com/a/701104 + https://math.stackexchange.com/a/1663012\n",
    "    u, sig, v = torch.svd(x)\n",
    "    return u.matmul(v.t()) "
   ]
  },
  {
   "cell_type": "code",
   "execution_count": 3,
   "metadata": {},
   "outputs": [
    {
     "data": {
      "text/plain": [
       "tensor([[0.2189, 0.1772, 0.1588, 0.0823, 0.0600],\n",
       "        [0.1784, 0.1084, 0.2020, 0.0798, 0.0437],\n",
       "        [0.0769, 0.0036, 0.2205, 0.0522, 0.0751],\n",
       "        [0.1580, 0.1786, 0.0080, 0.0073, 0.0528],\n",
       "        [0.1559, 0.0791, 0.0791, 0.0542, 0.2183],\n",
       "        [0.0395, 0.0314, 0.2076, 0.2179, 0.2194],\n",
       "        [0.1734, 0.1642, 0.0842, 0.2225, 0.2142],\n",
       "        [0.1979, 0.1870, 0.0365, 0.1415, 0.1016],\n",
       "        [0.1625, 0.0637, 0.0349, 0.1502, 0.0901],\n",
       "        [0.1329, 0.1243, 0.0958, 0.2156, 0.1571]], dtype=torch.float64)"
      ]
     },
     "execution_count": 3,
     "metadata": {},
     "output_type": "execute_result"
    }
   ],
   "source": [
    "x = torch.rand(10, 5).double()\n",
    "x /= torch.norm(x)\n",
    "\n",
    "x"
   ]
  },
  {
   "cell_type": "code",
   "execution_count": 4,
   "metadata": {},
   "outputs": [
    {
     "data": {
      "text/plain": [
       "tensor([[ 3.2348e-01,  3.6537e-01,  3.3166e-01, -4.6028e-02, -1.6881e-01],\n",
       "        [ 3.3954e-01,  7.0616e-02,  4.9692e-01,  1.7631e-02, -2.3279e-01],\n",
       "        [ 1.2624e-01, -2.0955e-01,  6.1488e-01, -8.8598e-02,  5.6433e-02],\n",
       "        [ 1.3638e-01,  6.1171e-01, -7.2728e-02, -2.7992e-01,  1.0218e-01],\n",
       "        [ 3.7137e-01, -1.4128e-01, -3.0169e-02, -3.8145e-01,  7.6939e-01],\n",
       "        [-3.7277e-01,  7.4069e-03,  4.3514e-01,  3.8855e-01,  4.2002e-01],\n",
       "        [ 4.7364e-02,  2.7849e-01, -8.2683e-02,  3.6728e-01,  3.4710e-01],\n",
       "        [ 2.6250e-01,  3.8079e-01, -1.4301e-01,  2.3310e-01, -1.0389e-02],\n",
       "        [ 6.3048e-01, -4.0752e-01, -2.0434e-01,  4.2270e-01, -4.7915e-02],\n",
       "        [-6.6551e-04,  1.8648e-01,  2.0359e-02,  4.9698e-01,  1.1150e-01]],\n",
       "       dtype=torch.float64)"
      ]
     },
     "execution_count": 4,
     "metadata": {},
     "output_type": "execute_result"
    }
   ],
   "source": [
    "grad(x)"
   ]
  },
  {
   "cell_type": "code",
   "execution_count": null,
   "metadata": {},
   "outputs": [],
   "source": [
    "def loss_regression(self,x ):\n",
    "    return 1/(1 + torch.exp(x))\n"
   ]
  },
  {
   "cell_type": "code",
   "execution_count": null,
   "metadata": {},
   "outputs": [],
   "source": [
    "x = Variable(torch.tensor([1.0]).double(),requires_grad = True)\n",
    "y = 1/(1 + torch.exp(-x))"
   ]
  },
  {
   "cell_type": "code",
   "execution_count": null,
   "metadata": {},
   "outputs": [],
   "source": [
    "y.requires_grad\n",
    "#print(y.backward())"
   ]
  },
  {
   "cell_type": "code",
   "execution_count": 6,
   "metadata": {},
   "outputs": [
    {
     "data": {
      "text/plain": [
       "'Fri_Apr_19_13-34-58_2019'"
      ]
     },
     "execution_count": 6,
     "metadata": {},
     "output_type": "execute_result"
    }
   ],
   "source": [
    "import time\n",
    "\n",
    "time.ctime().replace(' ','_').replace(':','-')"
   ]
  },
  {
   "cell_type": "code",
   "execution_count": null,
   "metadata": {},
   "outputs": [],
   "source": []
  }
 ],
 "metadata": {
  "kernelspec": {
   "display_name": "Python 3",
   "language": "python",
   "name": "python3"
  },
  "language_info": {
   "codemirror_mode": {
    "name": "ipython",
    "version": 3
   },
   "file_extension": ".py",
   "mimetype": "text/x-python",
   "name": "python",
   "nbconvert_exporter": "python",
   "pygments_lexer": "ipython3",
   "version": "3.5.2"
  }
 },
 "nbformat": 4,
 "nbformat_minor": 2
}
