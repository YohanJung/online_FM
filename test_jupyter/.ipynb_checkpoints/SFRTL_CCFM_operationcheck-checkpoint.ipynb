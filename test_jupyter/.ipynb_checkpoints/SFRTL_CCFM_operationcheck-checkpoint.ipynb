{
 "cells": [
  {
   "cell_type": "code",
   "execution_count": 1,
   "metadata": {},
   "outputs": [],
   "source": [
    "import torch\n",
    "import numpy as np"
   ]
  },
  {
   "cell_type": "code",
   "execution_count": 11,
   "metadata": {},
   "outputs": [],
   "source": [
    "m = 2\n",
    "num_feature = 5\n",
    "BT_P = torch.Tensor(np.arange(1,50+1).transpose().reshape([-1,5]) ,).type(torch.DoubleTensor)"
   ]
  },
  {
   "cell_type": "code",
   "execution_count": 12,
   "metadata": {},
   "outputs": [],
   "source": [
    "BT_P = BT_P.t()"
   ]
  },
  {
   "cell_type": "code",
   "execution_count": 13,
   "metadata": {},
   "outputs": [
    {
     "data": {
      "text/plain": [
       "tensor([[ 1.,  6., 11., 16., 21., 26., 31., 36., 41., 46.],\n",
       "        [ 2.,  7., 12., 17., 22., 27., 32., 37., 42., 47.],\n",
       "        [ 3.,  8., 13., 18., 23., 28., 33., 38., 43., 48.],\n",
       "        [ 4.,  9., 14., 19., 24., 29., 34., 39., 44., 49.],\n",
       "        [ 5., 10., 15., 20., 25., 30., 35., 40., 45., 50.]],\n",
       "       dtype=torch.float64)"
      ]
     },
     "execution_count": 13,
     "metadata": {},
     "output_type": "execute_result"
    }
   ],
   "source": [
    "BT_P"
   ]
  },
  {
   "cell_type": "code",
   "execution_count": 14,
   "metadata": {},
   "outputs": [],
   "source": [
    "U, Sigma, _  = BT_P.t().matmul(BT_P).svd()"
   ]
  },
  {
   "cell_type": "code",
   "execution_count": 15,
   "metadata": {},
   "outputs": [
    {
     "data": {
      "text/plain": [
       "tensor([4.2901e+04, 2.4038e+01, 2.6825e-12, 0.0000e+00, 0.0000e+00, 0.0000e+00,\n",
       "        0.0000e+00, 0.0000e+00, 0.0000e+00, 0.0000e+00], dtype=torch.float64)"
      ]
     },
     "execution_count": 15,
     "metadata": {},
     "output_type": "execute_result"
    }
   ],
   "source": [
    "_thres = 1e-12\n",
    "Sigma[Sigma.data <= _thres] = 0.0\n",
    "Sigma"
   ]
  },
  {
   "cell_type": "code",
   "execution_count": 16,
   "metadata": {},
   "outputs": [],
   "source": [
    "nnz = Sigma.nonzero().numel()\n",
    "V = BT_P.matmul(U[:, :nnz]).matmul(  (1/Sigma[:nnz].sqrt()).diag()   )"
   ]
  },
  {
   "cell_type": "code",
   "execution_count": 17,
   "metadata": {},
   "outputs": [
    {
     "data": {
      "text/plain": [
       "tensor([[-87.0335],\n",
       "        [-89.7903],\n",
       "        [-92.5472],\n",
       "        [-95.3041],\n",
       "        [-98.0610]], dtype=torch.float64)"
      ]
     },
     "execution_count": 17,
     "metadata": {},
     "output_type": "execute_result"
    }
   ],
   "source": [
    "BT_P = V[:, :m - 1].matmul((Sigma[:m - 1] - Sigma[m]).sqrt().diag())\n",
    "BT_P\n",
    "\n",
    "\n",
    "#BT_P = torch.cat([self.BT_P, torch.zeros([self.num_feature, self.m + 1]).double() ], 1)"
   ]
  },
  {
   "cell_type": "code",
   "execution_count": 18,
   "metadata": {},
   "outputs": [
    {
     "data": {
      "text/plain": [
       "tensor([[-87.0335,   0.0000,   0.0000,   0.0000],\n",
       "        [-89.7903,   0.0000,   0.0000,   0.0000],\n",
       "        [-92.5472,   0.0000,   0.0000,   0.0000],\n",
       "        [-95.3041,   0.0000,   0.0000,   0.0000],\n",
       "        [-98.0610,   0.0000,   0.0000,   0.0000]], dtype=torch.float64)"
      ]
     },
     "execution_count": 18,
     "metadata": {},
     "output_type": "execute_result"
    }
   ],
   "source": [
    "BT_P = torch.cat([BT_P, torch.zeros([num_feature, m + 1]).double() ], 1)\n",
    "BT_P"
   ]
  },
  {
   "cell_type": "code",
   "execution_count": 19,
   "metadata": {},
   "outputs": [
    {
     "data": {
      "text/plain": [
       "tensor([[-8.7033e+01,  3.1904e+00, -3.3307e-14],\n",
       "        [-8.9790e+01,  1.6413e+00, -7.7716e-15],\n",
       "        [-9.2547e+01,  9.2289e-02,  1.6875e-14],\n",
       "        [-9.5304e+01, -1.4568e+00,  4.1467e-14],\n",
       "        [-9.8061e+01, -3.0058e+00,  6.5170e-14]], dtype=torch.float64)"
      ]
     },
     "execution_count": 19,
     "metadata": {},
     "output_type": "execute_result"
    }
   ],
   "source": [
    "BT_P = V[:, :nnz].matmul((Sigma[:nnz]).sqrt().diag())\n",
    "BT_P"
   ]
  },
  {
   "cell_type": "code",
   "execution_count": 20,
   "metadata": {},
   "outputs": [
    {
     "data": {
      "text/plain": [
       "tensor([[-8.7033e+01,  3.1904e+00, -3.3307e-14,  0.0000e+00],\n",
       "        [-8.9790e+01,  1.6413e+00, -7.7716e-15,  0.0000e+00],\n",
       "        [-9.2547e+01,  9.2289e-02,  1.6875e-14,  0.0000e+00],\n",
       "        [-9.5304e+01, -1.4568e+00,  4.1467e-14,  0.0000e+00],\n",
       "        [-9.8061e+01, -3.0058e+00,  6.5170e-14,  0.0000e+00]],\n",
       "       dtype=torch.float64)"
      ]
     },
     "execution_count": 20,
     "metadata": {},
     "output_type": "execute_result"
    }
   ],
   "source": [
    " torch.cat([BT_P, torch.zeros([num_feature, (2 * m) - nnz]).double() ], 1)"
   ]
  },
  {
   "cell_type": "code",
   "execution_count": null,
   "metadata": {},
   "outputs": [],
   "source": [
    "self.BT_P[:,self.row_count_p] = np.sqrt(-self.eta*sign)*alpha.squeeze()\n",
    "\n",
    "\n",
    "if self.row_count_p == 2*self.m - 1  :\n",
    "\n",
    "    U, Sigma, _ = (self.BT_P.t().matmul(self.BT_P)).svd()\n",
    "    Sigma[Sigma.data <= self._thres] = 0.0\n",
    "    nnz = Sigma.nonzero().numel()\n",
    "    V = self.BT_P.matmul(U[:, :nnz]).matmul(  (1/Sigma[:nnz].sqrt()).diag()   )\n",
    "\n",
    "\n",
    "    if nnz >= self.m:\n",
    "\n",
    "        self.BT_P = V[:, :self.m - 1].matmul((Sigma[:self.m - 1] - Sigma[self.m]).sqrt().diag())\n",
    "        self.BT_P = torch.cat([self.BT_P, torch.zeros([self.num_feature, self.m + 1]).double() ], 1)\n",
    "        self.row_count_p = self.m - 1\n",
    "\n",
    "    else:\n",
    "        self.BT_P = V[:, :nnz].matmul((Sigma[:nnz]).sqrt().diag())\n",
    "        self.BT_P= torch.cat([self.BT_P, torch.zeros([self.num_feature, (2 * self.m) - nnz]).double() ], 1)\n",
    "        self.row_count_p = nnz"
   ]
  },
  {
   "cell_type": "code",
   "execution_count": null,
   "metadata": {},
   "outputs": [],
   "source": []
  }
 ],
 "metadata": {
  "kernelspec": {
   "display_name": "Python 3",
   "language": "python",
   "name": "python3"
  },
  "language_info": {
   "codemirror_mode": {
    "name": "ipython",
    "version": 3
   },
   "file_extension": ".py",
   "mimetype": "text/x-python",
   "name": "python",
   "nbconvert_exporter": "python",
   "pygments_lexer": "ipython3",
   "version": "3.5.2"
  }
 },
 "nbformat": 4,
 "nbformat_minor": 2
}
