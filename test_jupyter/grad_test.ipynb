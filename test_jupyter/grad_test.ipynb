{
 "cells": [
  {
   "cell_type": "code",
   "execution_count": 1,
   "metadata": {},
   "outputs": [],
   "source": [
    "import numpy as np\n",
    "import torch\n",
    "\n",
    "from torch.autograd import Variable"
   ]
  },
  {
   "cell_type": "code",
   "execution_count": 2,
   "metadata": {},
   "outputs": [],
   "source": [
    "def grad(x):\n",
    "    # Alternatively: https://math.stackexchange.com/a/934443\n",
    "    # from scipy.linalg import sqrtm\n",
    "    # return sqrtm(np.linalg.inv(x @ x.transpose())) @ x\n",
    "\n",
    "    # Using SVD: https://math.stackexchange.com/a/701104 + https://math.stackexchange.com/a/1663012\n",
    "    u, sig, v = torch.svd(x)\n",
    "    return u.matmul(v.t()) "
   ]
  },
  {
   "cell_type": "code",
   "execution_count": 3,
   "metadata": {},
   "outputs": [
    {
     "data": {
      "text/plain": [
       "tensor([[0.2085, 0.1971, 0.0042, 0.2078, 0.0311],\n",
       "        [0.2025, 0.0483, 0.0196, 0.1346, 0.2205],\n",
       "        [0.1705, 0.0319, 0.0421, 0.1277, 0.1927],\n",
       "        [0.1692, 0.0500, 0.0353, 0.2171, 0.0887],\n",
       "        [0.1114, 0.2297, 0.0148, 0.0464, 0.1564],\n",
       "        [0.2328, 0.0409, 0.1253, 0.1948, 0.1902],\n",
       "        [0.0756, 0.1076, 0.1549, 0.0974, 0.2270],\n",
       "        [0.0955, 0.2254, 0.2104, 0.0680, 0.0671],\n",
       "        [0.0315, 0.0017, 0.0463, 0.1365, 0.1193],\n",
       "        [0.0361, 0.0135, 0.1347, 0.2235, 0.1774]], dtype=torch.float64)"
      ]
     },
     "execution_count": 3,
     "metadata": {},
     "output_type": "execute_result"
    }
   ],
   "source": [
    "x = torch.rand(10, 5).double()\n",
    "x /= torch.norm(x)\n",
    "\n",
    "x"
   ]
  },
  {
   "cell_type": "code",
   "execution_count": 4,
   "metadata": {},
   "outputs": [
    {
     "data": {
      "text/plain": [
       "tensor([[ 0.3132,  0.4682, -0.2332,  0.4801, -0.3071],\n",
       "        [ 0.4079, -0.0719, -0.1790, -0.0266,  0.4437],\n",
       "        [ 0.3391, -0.1140, -0.0397,  0.0073,  0.3558],\n",
       "        [ 0.2531, -0.0263, -0.0438,  0.4849, -0.0984],\n",
       "        [-0.0291,  0.6702, -0.3064, -0.1160,  0.4064],\n",
       "        [ 0.5712, -0.2343,  0.3486,  0.0965,  0.1116],\n",
       "        [-0.1129,  0.1581,  0.3341, -0.0448,  0.4907],\n",
       "        [ 0.1274,  0.4748,  0.7215, -0.0938, -0.1687],\n",
       "        [-0.2250, -0.0433, -0.0211,  0.3704,  0.2355],\n",
       "        [-0.3869, -0.0748,  0.2491,  0.6023,  0.2650]], dtype=torch.float64)"
      ]
     },
     "execution_count": 4,
     "metadata": {},
     "output_type": "execute_result"
    }
   ],
   "source": [
    "grad(x)"
   ]
  },
  {
   "cell_type": "code",
   "execution_count": 5,
   "metadata": {},
   "outputs": [],
   "source": [
    "def loss_regression(self,x ):\n",
    "    return 1/(1 + torch.exp(x))\n"
   ]
  },
  {
   "cell_type": "code",
   "execution_count": 6,
   "metadata": {},
   "outputs": [],
   "source": [
    "x = Variable(torch.tensor([1.0]).double(),requires_grad = True)\n",
    "y = 1/(1 + torch.exp(-x))"
   ]
  },
  {
   "cell_type": "code",
   "execution_count": 7,
   "metadata": {},
   "outputs": [
    {
     "data": {
      "text/plain": [
       "True"
      ]
     },
     "execution_count": 7,
     "metadata": {},
     "output_type": "execute_result"
    }
   ],
   "source": [
    "y.requires_grad\n",
    "#print(y.backward())"
   ]
  },
  {
   "cell_type": "code",
   "execution_count": 8,
   "metadata": {},
   "outputs": [
    {
     "data": {
      "text/plain": [
       "'Sun_Apr_21_23-03-28_2019'"
      ]
     },
     "execution_count": 8,
     "metadata": {},
     "output_type": "execute_result"
    }
   ],
   "source": [
    "import time\n",
    "\n",
    "time.ctime().replace(' ','_').replace(':','-')"
   ]
  },
  {
   "cell_type": "code",
   "execution_count": 9,
   "metadata": {},
   "outputs": [
    {
     "data": {
      "text/plain": [
       "inf"
      ]
     },
     "execution_count": 9,
     "metadata": {},
     "output_type": "execute_result"
    }
   ],
   "source": [
    "np.inf"
   ]
  },
  {
   "cell_type": "code",
   "execution_count": null,
   "metadata": {},
   "outputs": [],
   "source": []
  }
 ],
 "metadata": {
  "kernelspec": {
   "display_name": "Python 3",
   "language": "python",
   "name": "python3"
  },
  "language_info": {
   "codemirror_mode": {
    "name": "ipython",
    "version": 3
   },
   "file_extension": ".py",
   "mimetype": "text/x-python",
   "name": "python",
   "nbconvert_exporter": "python",
   "pygments_lexer": "ipython3",
   "version": "3.5.2"
  }
 },
 "nbformat": 4,
 "nbformat_minor": 2
}
